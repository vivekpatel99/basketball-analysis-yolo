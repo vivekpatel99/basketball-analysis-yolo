{
  "cells": [
    {
      "cell_type": "code",
      "execution_count": 1,
      "metadata": {},
      "outputs": [],
      "source": [
        "import rootutils\n",
        "from pathlib import Path"
      ]
    },
    {
      "cell_type": "code",
      "execution_count": 2,
      "metadata": {
        "colab": {
          "base_uri": "https://localhost:8080/"
        },
        "id": "AU4_oP5MYm6n",
        "outputId": "8f31ffa6-0748-4623-f7a2-8ecc70a7c5bc"
      },
      "outputs": [
        {
          "name": "stdout",
          "output_type": "stream",
          "text": [
            "✅ YOLO runs will be saved to: /home/ultron/AI/practice-projects/CV/basketball-analysis-yolo/runs\n"
          ]
        }
      ],
      "source": [
        "rootutils.setup_root(\n",
        "    Path.cwd().parent,  # path to the root directory,\n",
        "    indicator=\".git\",\n",
        "    project_root_env_var=True,  # set the PROJECT_ROOT environment variable to root directory\n",
        "    dotenv=True,  # load environment variables from .env if exists in root directory\n",
        "    pythonpath=True,  # add root directory to the PYTHONPATH (helps with imports)\n",
        "    cwd=True,  # change current working directory to the root directory (helps with filepaths)\n",
        ")\n",
        "\n",
        "# Fix YOLO directory paths to use correct project directory\n",
        "from ultralytics import settings\n",
        "project_root = Path.cwd()\n",
        "settings.update({\n",
        "    'runs_dir': str(project_root / 'runs'),\n",
        "    'weights_dir': str(project_root / 'weights'),\n",
        "    'datasets_dir': str(project_root / 'datasets')\n",
        "})\n",
        "print(f\"✅ YOLO runs will be saved to: {settings['runs_dir']}\")\n"
      ]
    },
    {
      "cell_type": "markdown",
      "metadata": {
        "id": "_GVR1a60Zkpa"
      },
      "source": [
        "# Get Datasets\n"
      ]
    },
    {
      "cell_type": "code",
      "execution_count": 3,
      "metadata": {},
      "outputs": [
        {
          "data": {
            "text/plain": [
              "PosixPath('/home/ultron/AI/practice-projects/CV/basketball-analysis-yolo/datasets')"
            ]
          },
          "execution_count": 3,
          "metadata": {},
          "output_type": "execute_result"
        }
      ],
      "source": [
        "dataset_path = Path.cwd() / \"datasets\" \n",
        "dataset_path"
      ]
    },
    {
      "cell_type": "code",
      "execution_count": 4,
      "metadata": {
        "colab": {
          "base_uri": "https://localhost:8080/"
        },
        "id": "ZQeCMLqwY3Ju",
        "outputId": "27120a5d-b931-4320-da9a-daadc7b60249"
      },
      "outputs": [
        {
          "name": "stdout",
          "output_type": "stream",
          "text": [
            "loading Roboflow workspace...\n",
            "loading Roboflow project...\n",
            "Downloading Dataset Version Zip in /home/ultron/AI/practice-projects/CV/basketball-analysis-yolo/datasets to yolov5pytorch: 100% [23581597 / 23581597] bytes\n"
          ]
        },
        {
          "name": "stderr",
          "output_type": "stream",
          "text": [
            "Extracting Dataset Version Zip to /home/ultron/AI/practice-projects/CV/basketball-analysis-yolo/datasets in yolov5pytorch:: 100%|██████████| 652/652 [00:00<00:00, 5763.93it/s]\n"
          ]
        }
      ],
      "source": [
        "from roboflow import Roboflow\n",
        "\n",
        "\n",
        "rf = Roboflow()\n",
        "project = rf.workspace(\"workspace-5ujvu\").project(\"basketball-players-fy4c2-vfsuv\")\n",
        "version = project.version(17)\n",
        "dataset = version.download(\"yolov5\", str(dataset_path))\n"
      ]
    },
    {
      "cell_type": "markdown",
      "metadata": {
        "id": "7EN_8D3ObiMA"
      },
      "source": [
        "# Train Yolo\n"
      ]
    },
    {
      "cell_type": "markdown",
      "metadata": {
        "id": "Bibpc3Z3cUiT"
      },
      "source": [
        "https://github.com/ultralytics/yolov5\n",
        "\n",
        "https://docs.ultralytics.com/models/yolov5/#performance-metrics\n"
      ]
    },
    {
      "cell_type": "code",
      "execution_count": 6,
      "metadata": {
        "colab": {
          "base_uri": "https://localhost:8080/"
        },
        "id": "y-xR4lSfY3DY",
        "outputId": "a8b25355-5602-4bdc-f44f-0941f7f4e98e"
      },
      "outputs": [
        {
          "name": "stdout",
          "output_type": "stream",
          "text": [
            "Ultralytics 8.3.201 🚀 Python-3.13.2 torch-2.8.0+cu128 CUDA:0 (NVIDIA GeForce RTX 3080, 9871MiB)\n",
            "\u001b[34m\u001b[1mengine/trainer: \u001b[0magnostic_nms=False, amp=True, augment=False, auto_augment=randaugment, batch=8, bgr=0.0, box=7.5, cache=False, cfg=None, classes=None, close_mosaic=10, cls=0.5, compile=False, conf=None, copy_paste=0.0, copy_paste_mode=flip, cos_lr=False, cutmix=0.0, data=/home/ultron/AI/practice-projects/CV/basketball-analysis-yolo/datasets/data.yaml, degrees=0.0, deterministic=True, device=None, dfl=1.5, dnn=False, dropout=0.0, dynamic=False, embed=None, epochs=100, erasing=0.4, exist_ok=False, fliplr=0.5, flipud=0.0, format=torchscript, fraction=1.0, freeze=None, half=False, hsv_h=0.015, hsv_s=0.7, hsv_v=0.4, imgsz=640, int8=False, iou=0.7, keras=False, kobj=1.0, line_width=None, lr0=0.01, lrf=0.01, mask_ratio=4, max_det=300, mixup=0.0, mode=train, model=yolov5l6u.pt, momentum=0.937, mosaic=1.0, multi_scale=False, name=train2, nbs=64, nms=False, opset=None, optimize=False, optimizer=auto, overlap_mask=True, patience=100, perspective=0.0, plots=True, pose=12.0, pretrained=True, profile=False, project=None, rect=False, resume=False, retina_masks=False, save=True, save_conf=False, save_crop=False, save_dir=/home/ultron/AI/practice-projects/CV/basketball-analysis-yolo/runs/detect/train2, save_frames=False, save_json=False, save_period=-1, save_txt=False, scale=0.5, seed=0, shear=0.0, show=False, show_boxes=True, show_conf=True, show_labels=True, simplify=True, single_cls=False, source=None, split=val, stream_buffer=False, task=detect, time=None, tracker=botsort.yaml, translate=0.1, val=True, verbose=True, vid_stride=1, visualize=False, warmup_bias_lr=0.1, warmup_epochs=3.0, warmup_momentum=0.8, weight_decay=0.0005, workers=8, workspace=None\n",
            "Overriding model.yaml nc=80 with nc=7\n",
            "\n",
            "                   from  n    params  module                                       arguments                     \n",
            "  0                  -1  1      7040  ultralytics.nn.modules.conv.Conv             [3, 64, 6, 2, 2]              \n",
            "  1                  -1  1     73984  ultralytics.nn.modules.conv.Conv             [64, 128, 3, 2]               \n",
            "  2                  -1  3    156928  ultralytics.nn.modules.block.C3              [128, 128, 3]                 \n",
            "  3                  -1  1    295424  ultralytics.nn.modules.conv.Conv             [128, 256, 3, 2]              \n",
            "  4                  -1  6   1118208  ultralytics.nn.modules.block.C3              [256, 256, 6]                 \n",
            "  5                  -1  1   1180672  ultralytics.nn.modules.conv.Conv             [256, 512, 3, 2]              \n",
            "  6                  -1  9   6433792  ultralytics.nn.modules.block.C3              [512, 512, 9]                 \n",
            "  7                  -1  1   3540480  ultralytics.nn.modules.conv.Conv             [512, 768, 3, 2]              \n",
            "  8                  -1  3   5611008  ultralytics.nn.modules.block.C3              [768, 768, 3]                 \n",
            "  9                  -1  1   7079936  ultralytics.nn.modules.conv.Conv             [768, 1024, 3, 2]             \n",
            " 10                  -1  3   9971712  ultralytics.nn.modules.block.C3              [1024, 1024, 3]               \n",
            " 11                  -1  1   2624512  ultralytics.nn.modules.block.SPPF            [1024, 1024, 5]               \n",
            " 12                  -1  1    787968  ultralytics.nn.modules.conv.Conv             [1024, 768, 1, 1]             \n",
            " 13                  -1  1         0  torch.nn.modules.upsampling.Upsample         [None, 2, 'nearest']          \n",
            " 14             [-1, 8]  1         0  ultralytics.nn.modules.conv.Concat           [1]                           \n",
            " 15                  -1  3   6200832  ultralytics.nn.modules.block.C3              [1536, 768, 3, False]         \n",
            " 16                  -1  1    394240  ultralytics.nn.modules.conv.Conv             [768, 512, 1, 1]              \n",
            " 17                  -1  1         0  torch.nn.modules.upsampling.Upsample         [None, 2, 'nearest']          \n",
            " 18             [-1, 6]  1         0  ultralytics.nn.modules.conv.Concat           [1]                           \n",
            " 19                  -1  3   2757632  ultralytics.nn.modules.block.C3              [1024, 512, 3, False]         \n",
            " 20                  -1  1    131584  ultralytics.nn.modules.conv.Conv             [512, 256, 1, 1]              \n",
            " 21                  -1  1         0  torch.nn.modules.upsampling.Upsample         [None, 2, 'nearest']          \n",
            " 22             [-1, 4]  1         0  ultralytics.nn.modules.conv.Concat           [1]                           \n",
            " 23                  -1  3    690688  ultralytics.nn.modules.block.C3              [512, 256, 3, False]          \n",
            " 24                  -1  1    590336  ultralytics.nn.modules.conv.Conv             [256, 256, 3, 2]              \n",
            " 25            [-1, 20]  1         0  ultralytics.nn.modules.conv.Concat           [1]                           \n",
            " 26                  -1  3   2495488  ultralytics.nn.modules.block.C3              [512, 512, 3, False]          \n",
            " 27                  -1  1   2360320  ultralytics.nn.modules.conv.Conv             [512, 512, 3, 2]              \n",
            " 28            [-1, 16]  1         0  ultralytics.nn.modules.conv.Concat           [1]                           \n",
            " 29                  -1  3   5807616  ultralytics.nn.modules.block.C3              [1024, 768, 3, False]         \n",
            " 30                  -1  1   5309952  ultralytics.nn.modules.conv.Conv             [768, 768, 3, 2]              \n",
            " 31            [-1, 12]  1         0  ultralytics.nn.modules.conv.Concat           [1]                           \n",
            " 32                  -1  3  10496000  ultralytics.nn.modules.block.C3              [1536, 1024, 3, False]        \n",
            " 33    [23, 26, 29, 32]  1   9908524  ultralytics.nn.modules.head.Detect           [7, [256, 512, 768, 1024]]    \n",
            "YOLOv5l6u summary: 314 layers, 86,024,876 parameters, 86,024,860 gradients, 137.7 GFLOPs\n",
            "\n",
            "Transferred 891/899 items from pretrained weights\n",
            "Freezing layer 'model.33.dfl.conv.weight'\n",
            "\u001b[34m\u001b[1mAMP: \u001b[0mrunning Automatic Mixed Precision (AMP) checks...\n",
            "\u001b[34m\u001b[1mAMP: \u001b[0mchecks passed ✅\n",
            "\u001b[34m\u001b[1mtrain: \u001b[0mFast image access ✅ (ping: 0.0±0.0 ms, read: 2079.2±1666.9 MB/s, size: 77.7 KB)\n",
            "\u001b[K\u001b[34m\u001b[1mtrain: \u001b[0mScanning /home/ultron/AI/practice-projects/CV/basketball-analysis-yolo/datasets/train/labels.cache... 256 images, 0 backgrounds, 0 corrupt: 100% ━━━━━━━━━━━━ 256/256 8.4Mit/s 0.0ss\n",
            "\u001b[34m\u001b[1mval: \u001b[0mFast image access ✅ (ping: 0.0±0.0 ms, read: 299.7±68.4 MB/s, size: 60.4 KB)\n",
            "\u001b[K\u001b[34m\u001b[1mval: \u001b[0mScanning /home/ultron/AI/practice-projects/CV/basketball-analysis-yolo/datasets/valid/labels.cache... 32 images, 0 backgrounds, 0 corrupt: 100% ━━━━━━━━━━━━ 32/32 102.9Kit/s 0.0s\n",
            "Plotting labels to /home/ultron/AI/practice-projects/CV/basketball-analysis-yolo/runs/detect/train2/labels.jpg... \n",
            "\u001b[34m\u001b[1moptimizer:\u001b[0m 'optimizer=auto' found, ignoring 'lr0=0.01' and 'momentum=0.937' and determining best 'optimizer', 'lr0' and 'momentum' automatically... \n",
            "\u001b[34m\u001b[1moptimizer:\u001b[0m AdamW(lr=0.000909, momentum=0.9) with parameter groups 147 weight(decay=0.0), 156 weight(decay=0.0005), 155 bias(decay=0.0)\n",
            "Image sizes 640 train, 640 val\n",
            "Using 8 dataloader workers\n",
            "Logging results to \u001b[1m/home/ultron/AI/practice-projects/CV/basketball-analysis-yolo/runs/detect/train2\u001b[0m\n",
            "Starting training for 100 epochs...\n",
            "\n",
            "      Epoch    GPU_mem   box_loss   cls_loss   dfl_loss  Instances       Size\n",
            "\u001b[K: 0% ──────────── 0/32  0.2s\n",
            "Traceback (most recent call last):\n",
            "  File \u001b[35m\"/home/ultron/AI/practice-projects/CV/basketball-analysis-yolo/.venv/bin/yolo\"\u001b[0m, line \u001b[35m10\u001b[0m, in \u001b[35m<module>\u001b[0m\n",
            "    sys.exit(\u001b[31mentrypoint\u001b[0m\u001b[1;31m()\u001b[0m)\n",
            "             \u001b[31m~~~~~~~~~~\u001b[0m\u001b[1;31m^^\u001b[0m\n",
            "  File \u001b[35m\"/home/ultron/AI/practice-projects/CV/basketball-analysis-yolo/.venv/lib/python3.13/site-packages/ultralytics/cfg/__init__.py\"\u001b[0m, line \u001b[35m990\u001b[0m, in \u001b[35mentrypoint\u001b[0m\n",
            "    \u001b[31mgetattr(model, mode)\u001b[0m\u001b[1;31m(**overrides)\u001b[0m  # default args from model\n",
            "    \u001b[31m~~~~~~~~~~~~~~~~~~~~\u001b[0m\u001b[1;31m^^^^^^^^^^^^^\u001b[0m\n",
            "  File \u001b[35m\"/home/ultron/AI/practice-projects/CV/basketball-analysis-yolo/.venv/lib/python3.13/site-packages/ultralytics/engine/model.py\"\u001b[0m, line \u001b[35m800\u001b[0m, in \u001b[35mtrain\u001b[0m\n",
            "    \u001b[31mself.trainer.train\u001b[0m\u001b[1;31m()\u001b[0m\n",
            "    \u001b[31m~~~~~~~~~~~~~~~~~~\u001b[0m\u001b[1;31m^^\u001b[0m\n",
            "  File \u001b[35m\"/home/ultron/AI/practice-projects/CV/basketball-analysis-yolo/.venv/lib/python3.13/site-packages/ultralytics/engine/trainer.py\"\u001b[0m, line \u001b[35m235\u001b[0m, in \u001b[35mtrain\u001b[0m\n",
            "    \u001b[31mself._do_train\u001b[0m\u001b[1;31m()\u001b[0m\n",
            "    \u001b[31m~~~~~~~~~~~~~~\u001b[0m\u001b[1;31m^^\u001b[0m\n",
            "  File \u001b[35m\"/home/ultron/AI/practice-projects/CV/basketball-analysis-yolo/.venv/lib/python3.13/site-packages/ultralytics/engine/trainer.py\"\u001b[0m, line \u001b[35m419\u001b[0m, in \u001b[35m_do_train\u001b[0m\n",
            "    preds = self.model(batch[\"img\"])\n",
            "  File \u001b[35m\"/home/ultron/AI/practice-projects/CV/basketball-analysis-yolo/.venv/lib/python3.13/site-packages/torch/nn/modules/module.py\"\u001b[0m, line \u001b[35m1773\u001b[0m, in \u001b[35m_wrapped_call_impl\u001b[0m\n",
            "    return \u001b[31mself._call_impl\u001b[0m\u001b[1;31m(*args, **kwargs)\u001b[0m\n",
            "           \u001b[31m~~~~~~~~~~~~~~~\u001b[0m\u001b[1;31m^^^^^^^^^^^^^^^^^\u001b[0m\n",
            "  File \u001b[35m\"/home/ultron/AI/practice-projects/CV/basketball-analysis-yolo/.venv/lib/python3.13/site-packages/torch/nn/modules/module.py\"\u001b[0m, line \u001b[35m1784\u001b[0m, in \u001b[35m_call_impl\u001b[0m\n",
            "    return forward_call(*args, **kwargs)\n",
            "  File \u001b[35m\"/home/ultron/AI/practice-projects/CV/basketball-analysis-yolo/.venv/lib/python3.13/site-packages/ultralytics/nn/tasks.py\"\u001b[0m, line \u001b[35m139\u001b[0m, in \u001b[35mforward\u001b[0m\n",
            "    return \u001b[31mself.predict\u001b[0m\u001b[1;31m(x, *args, **kwargs)\u001b[0m\n",
            "           \u001b[31m~~~~~~~~~~~~\u001b[0m\u001b[1;31m^^^^^^^^^^^^^^^^^^^^\u001b[0m\n",
            "  File \u001b[35m\"/home/ultron/AI/practice-projects/CV/basketball-analysis-yolo/.venv/lib/python3.13/site-packages/ultralytics/nn/tasks.py\"\u001b[0m, line \u001b[35m157\u001b[0m, in \u001b[35mpredict\u001b[0m\n",
            "    return \u001b[31mself._predict_once\u001b[0m\u001b[1;31m(x, profile, visualize, embed)\u001b[0m\n",
            "           \u001b[31m~~~~~~~~~~~~~~~~~~\u001b[0m\u001b[1;31m^^^^^^^^^^^^^^^^^^^^^^^^^^^^^^\u001b[0m\n",
            "  File \u001b[35m\"/home/ultron/AI/practice-projects/CV/basketball-analysis-yolo/.venv/lib/python3.13/site-packages/ultralytics/nn/tasks.py\"\u001b[0m, line \u001b[35m180\u001b[0m, in \u001b[35m_predict_once\u001b[0m\n",
            "    x = m(x)  # run\n",
            "  File \u001b[35m\"/home/ultron/AI/practice-projects/CV/basketball-analysis-yolo/.venv/lib/python3.13/site-packages/torch/nn/modules/module.py\"\u001b[0m, line \u001b[35m1773\u001b[0m, in \u001b[35m_wrapped_call_impl\u001b[0m\n",
            "    return \u001b[31mself._call_impl\u001b[0m\u001b[1;31m(*args, **kwargs)\u001b[0m\n",
            "           \u001b[31m~~~~~~~~~~~~~~~\u001b[0m\u001b[1;31m^^^^^^^^^^^^^^^^^\u001b[0m\n",
            "  File \u001b[35m\"/home/ultron/AI/practice-projects/CV/basketball-analysis-yolo/.venv/lib/python3.13/site-packages/torch/nn/modules/module.py\"\u001b[0m, line \u001b[35m1784\u001b[0m, in \u001b[35m_call_impl\u001b[0m\n",
            "    return forward_call(*args, **kwargs)\n",
            "  File \u001b[35m\"/home/ultron/AI/practice-projects/CV/basketball-analysis-yolo/.venv/lib/python3.13/site-packages/ultralytics/nn/modules/block.py\"\u001b[0m, line \u001b[35m353\u001b[0m, in \u001b[35mforward\u001b[0m\n",
            "    return self.cv3(torch.cat((\u001b[31mself.m\u001b[0m\u001b[1;31m(self.cv1(x))\u001b[0m, self.cv2(x)), 1))\n",
            "                               \u001b[31m~~~~~~\u001b[0m\u001b[1;31m^^^^^^^^^^^^^\u001b[0m\n",
            "  File \u001b[35m\"/home/ultron/AI/practice-projects/CV/basketball-analysis-yolo/.venv/lib/python3.13/site-packages/torch/nn/modules/module.py\"\u001b[0m, line \u001b[35m1773\u001b[0m, in \u001b[35m_wrapped_call_impl\u001b[0m\n",
            "    return \u001b[31mself._call_impl\u001b[0m\u001b[1;31m(*args, **kwargs)\u001b[0m\n",
            "           \u001b[31m~~~~~~~~~~~~~~~\u001b[0m\u001b[1;31m^^^^^^^^^^^^^^^^^\u001b[0m\n",
            "  File \u001b[35m\"/home/ultron/AI/practice-projects/CV/basketball-analysis-yolo/.venv/lib/python3.13/site-packages/torch/nn/modules/module.py\"\u001b[0m, line \u001b[35m1784\u001b[0m, in \u001b[35m_call_impl\u001b[0m\n",
            "    return forward_call(*args, **kwargs)\n",
            "  File \u001b[35m\"/home/ultron/AI/practice-projects/CV/basketball-analysis-yolo/.venv/lib/python3.13/site-packages/torch/nn/modules/container.py\"\u001b[0m, line \u001b[35m244\u001b[0m, in \u001b[35mforward\u001b[0m\n",
            "    input = module(input)\n",
            "  File \u001b[35m\"/home/ultron/AI/practice-projects/CV/basketball-analysis-yolo/.venv/lib/python3.13/site-packages/torch/nn/modules/module.py\"\u001b[0m, line \u001b[35m1773\u001b[0m, in \u001b[35m_wrapped_call_impl\u001b[0m\n",
            "    return \u001b[31mself._call_impl\u001b[0m\u001b[1;31m(*args, **kwargs)\u001b[0m\n",
            "           \u001b[31m~~~~~~~~~~~~~~~\u001b[0m\u001b[1;31m^^^^^^^^^^^^^^^^^\u001b[0m\n",
            "  File \u001b[35m\"/home/ultron/AI/practice-projects/CV/basketball-analysis-yolo/.venv/lib/python3.13/site-packages/torch/nn/modules/module.py\"\u001b[0m, line \u001b[35m1784\u001b[0m, in \u001b[35m_call_impl\u001b[0m\n",
            "    return forward_call(*args, **kwargs)\n",
            "  File \u001b[35m\"/home/ultron/AI/practice-projects/CV/basketball-analysis-yolo/.venv/lib/python3.13/site-packages/ultralytics/nn/modules/block.py\"\u001b[0m, line \u001b[35m495\u001b[0m, in \u001b[35mforward\u001b[0m\n",
            "    return \u001b[31mx \u001b[0m\u001b[1;31m+\u001b[0m\u001b[31m self.cv2(self.cv1(x))\u001b[0m if self.add else self.cv2(self.cv1(x))\n",
            "           \u001b[31m~~\u001b[0m\u001b[1;31m^\u001b[0m\u001b[31m~~~~~~~~~~~~~~~~~~~~~~\u001b[0m\n",
            "\u001b[1;35mtorch.OutOfMemoryError\u001b[0m: \u001b[35mCUDA out of memory. Tried to allocate 14.00 MiB. GPU 0 has a total capacity of 9.64 GiB of which 37.50 MiB is free. Process 89978 has 6.41 GiB memory in use. Including non-PyTorch memory, this process has 2.43 GiB memory in use. Of the allocated memory 2.12 GiB is allocated by PyTorch, and 25.88 MiB is reserved by PyTorch but unallocated. If reserved but unallocated memory is large try setting PYTORCH_CUDA_ALLOC_CONF=expandable_segments:True to avoid fragmentation.  See documentation for Memory Management  (https://pytorch.org/docs/stable/notes/cuda.html#environment-variables)\u001b[0m\n",
            "Exception in thread Thread-3 (_pin_memory_loop):\n",
            "Traceback (most recent call last):\n",
            "  File \u001b[35m\"/home/ultron/.local/share/uv/python/cpython-3.13.2-linux-x86_64-gnu/lib/python3.13/threading.py\"\u001b[0m, line \u001b[35m1041\u001b[0m, in \u001b[35m_bootstrap_inner\u001b[0m\n",
            "    \u001b[31mself.run\u001b[0m\u001b[1;31m()\u001b[0m\n",
            "    \u001b[31m~~~~~~~~\u001b[0m\u001b[1;31m^^\u001b[0m\n",
            "  File \u001b[35m\"/home/ultron/.local/share/uv/python/cpython-3.13.2-linux-x86_64-gnu/lib/python3.13/threading.py\"\u001b[0m, line \u001b[35m992\u001b[0m, in \u001b[35mrun\u001b[0m\n",
            "    \u001b[31mself._target\u001b[0m\u001b[1;31m(*self._args, **self._kwargs)\u001b[0m\n",
            "    \u001b[31m~~~~~~~~~~~~\u001b[0m\u001b[1;31m^^^^^^^^^^^^^^^^^^^^^^^^^^^^^\u001b[0m\n",
            "  File \u001b[35m\"/home/ultron/AI/practice-projects/CV/basketball-analysis-yolo/.venv/lib/python3.13/site-packages/torch/utils/data/_utils/pin_memory.py\"\u001b[0m, line \u001b[35m61\u001b[0m, in \u001b[35m_pin_memory_loop\u001b[0m\n",
            "    \u001b[31mdo_one_step\u001b[0m\u001b[1;31m()\u001b[0m\n",
            "    \u001b[31m~~~~~~~~~~~\u001b[0m\u001b[1;31m^^\u001b[0m\n",
            "  File \u001b[35m\"/home/ultron/AI/practice-projects/CV/basketball-analysis-yolo/.venv/lib/python3.13/site-packages/torch/utils/data/_utils/pin_memory.py\"\u001b[0m, line \u001b[35m37\u001b[0m, in \u001b[35mdo_one_step\u001b[0m\n",
            "    r = in_queue.get(timeout=MP_STATUS_CHECK_INTERVAL)\n",
            "  File \u001b[35m\"/home/ultron/.local/share/uv/python/cpython-3.13.2-linux-x86_64-gnu/lib/python3.13/multiprocessing/queues.py\"\u001b[0m, line \u001b[35m120\u001b[0m, in \u001b[35mget\u001b[0m\n",
            "    return \u001b[31m_ForkingPickler.loads\u001b[0m\u001b[1;31m(res)\u001b[0m\n",
            "           \u001b[31m~~~~~~~~~~~~~~~~~~~~~\u001b[0m\u001b[1;31m^^^^^\u001b[0m\n",
            "  File \u001b[35m\"/home/ultron/AI/practice-projects/CV/basketball-analysis-yolo/.venv/lib/python3.13/site-packages/torch/multiprocessing/reductions.py\"\u001b[0m, line \u001b[35m541\u001b[0m, in \u001b[35mrebuild_storage_fd\u001b[0m\n",
            "    fd = df.detach()\n",
            "  File \u001b[35m\"/home/ultron/.local/share/uv/python/cpython-3.13.2-linux-x86_64-gnu/lib/python3.13/multiprocessing/resource_sharer.py\"\u001b[0m, line \u001b[35m57\u001b[0m, in \u001b[35mdetach\u001b[0m\n",
            "    with \u001b[31m_resource_sharer.get_connection\u001b[0m\u001b[1;31m(self._id)\u001b[0m as conn:\n",
            "         \u001b[31m~~~~~~~~~~~~~~~~~~~~~~~~~~~~~~~\u001b[0m\u001b[1;31m^^^^^^^^^^\u001b[0m\n",
            "  File \u001b[35m\"/home/ultron/.local/share/uv/python/cpython-3.13.2-linux-x86_64-gnu/lib/python3.13/multiprocessing/resource_sharer.py\"\u001b[0m, line \u001b[35m86\u001b[0m, in \u001b[35mget_connection\u001b[0m\n",
            "    c = Client(address, authkey=process.current_process().authkey)\n",
            "  File \u001b[35m\"/home/ultron/.local/share/uv/python/cpython-3.13.2-linux-x86_64-gnu/lib/python3.13/multiprocessing/connection.py\"\u001b[0m, line \u001b[35m525\u001b[0m, in \u001b[35mClient\u001b[0m\n",
            "    \u001b[31manswer_challenge\u001b[0m\u001b[1;31m(c, authkey)\u001b[0m\n",
            "    \u001b[31m~~~~~~~~~~~~~~~~\u001b[0m\u001b[1;31m^^^^^^^^^^^^\u001b[0m\n",
            "  File \u001b[35m\"/home/ultron/.local/share/uv/python/cpython-3.13.2-linux-x86_64-gnu/lib/python3.13/multiprocessing/connection.py\"\u001b[0m, line \u001b[35m953\u001b[0m, in \u001b[35manswer_challenge\u001b[0m\n",
            "    message = connection.recv_bytes(256)         # reject large message\n",
            "  File \u001b[35m\"/home/ultron/.local/share/uv/python/cpython-3.13.2-linux-x86_64-gnu/lib/python3.13/multiprocessing/connection.py\"\u001b[0m, line \u001b[35m216\u001b[0m, in \u001b[35mrecv_bytes\u001b[0m\n",
            "    buf = self._recv_bytes(maxlength)\n",
            "  File \u001b[35m\"/home/ultron/.local/share/uv/python/cpython-3.13.2-linux-x86_64-gnu/lib/python3.13/multiprocessing/connection.py\"\u001b[0m, line \u001b[35m430\u001b[0m, in \u001b[35m_recv_bytes\u001b[0m\n",
            "    buf = self._recv(4)\n",
            "  File \u001b[35m\"/home/ultron/.local/share/uv/python/cpython-3.13.2-linux-x86_64-gnu/lib/python3.13/multiprocessing/connection.py\"\u001b[0m, line \u001b[35m395\u001b[0m, in \u001b[35m_recv\u001b[0m\n",
            "    chunk = read(handle, remaining)\n",
            "\u001b[1;35mConnectionResetError\u001b[0m: \u001b[35m[Errno 104] Connection reset by peer\u001b[0m\n"
          ]
        }
      ],
      "source": [
        "!yolo task=detect mode=train model=yolov5l6u.pt data={dataset.location}/data.yaml epochs=100 imgsz=640 plots=True batch=8"
      ]
    }
  ],
  "metadata": {
    "accelerator": "GPU",
    "colab": {
      "gpuType": "T4",
      "provenance": []
    },
    "kernelspec": {
      "display_name": ".venv",
      "language": "python",
      "name": "python3"
    },
    "language_info": {
      "codemirror_mode": {
        "name": "ipython",
        "version": 3
      },
      "file_extension": ".py",
      "mimetype": "text/x-python",
      "name": "python",
      "nbconvert_exporter": "python",
      "pygments_lexer": "ipython3",
      "version": "3.13.2"
    }
  },
  "nbformat": 4,
  "nbformat_minor": 0
}
